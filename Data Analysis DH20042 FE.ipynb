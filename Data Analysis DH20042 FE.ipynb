{
 "cells": [
  {
   "cell_type": "markdown",
   "id": "b62af1d5",
   "metadata": {},
   "source": [
    "## Student ID: DH20042\n",
    "## Name : 弗兰克\n",
    "\n",
    "## # Data analysis\n",
    "    \n",
    "1. The difference in movies rating by males an femeles \n",
    "    "
   ]
  },
  {
   "cell_type": "code",
   "execution_count": 1,
   "id": "2587f6e6",
   "metadata": {},
   "outputs": [],
   "source": [
    "import pandas as pd\n",
    "import numpy as np"
   ]
  },
  {
   "cell_type": "code",
   "execution_count": 2,
   "id": "d7c1446b",
   "metadata": {},
   "outputs": [],
   "source": [
    "# Load dataset of movielens\n",
    "unames = ['user id','age','gender','occupation', 'zip code']\n",
    "users = pd.read_csv('u.user', sep = '|', names = unames)\n",
    "rnames = ['user id', 'item id', 'rating','timestamp']\n",
    "ratings = pd.read_csv('u.data', sep = '\\t', names = rnames)"
   ]
  },
  {
   "cell_type": "code",
   "execution_count": 4,
   "id": "6b7ab123",
   "metadata": {},
   "outputs": [
    {
     "data": {
      "text/html": [
       "<div>\n",
       "<style scoped>\n",
       "    .dataframe tbody tr th:only-of-type {\n",
       "        vertical-align: middle;\n",
       "    }\n",
       "\n",
       "    .dataframe tbody tr th {\n",
       "        vertical-align: top;\n",
       "    }\n",
       "\n",
       "    .dataframe thead th {\n",
       "        text-align: right;\n",
       "    }\n",
       "</style>\n",
       "<table border=\"1\" class=\"dataframe\">\n",
       "  <thead>\n",
       "    <tr style=\"text-align: right;\">\n",
       "      <th></th>\n",
       "      <th>user id</th>\n",
       "      <th>gender</th>\n",
       "      <th>rating</th>\n",
       "    </tr>\n",
       "  </thead>\n",
       "  <tbody>\n",
       "    <tr>\n",
       "      <th>0</th>\n",
       "      <td>1</td>\n",
       "      <td>M</td>\n",
       "      <td>4</td>\n",
       "    </tr>\n",
       "    <tr>\n",
       "      <th>1</th>\n",
       "      <td>1</td>\n",
       "      <td>M</td>\n",
       "      <td>3</td>\n",
       "    </tr>\n",
       "    <tr>\n",
       "      <th>2</th>\n",
       "      <td>1</td>\n",
       "      <td>M</td>\n",
       "      <td>4</td>\n",
       "    </tr>\n",
       "    <tr>\n",
       "      <th>3</th>\n",
       "      <td>1</td>\n",
       "      <td>M</td>\n",
       "      <td>4</td>\n",
       "    </tr>\n",
       "    <tr>\n",
       "      <th>4</th>\n",
       "      <td>1</td>\n",
       "      <td>M</td>\n",
       "      <td>4</td>\n",
       "    </tr>\n",
       "    <tr>\n",
       "      <th>...</th>\n",
       "      <td>...</td>\n",
       "      <td>...</td>\n",
       "      <td>...</td>\n",
       "    </tr>\n",
       "    <tr>\n",
       "      <th>99995</th>\n",
       "      <td>943</td>\n",
       "      <td>M</td>\n",
       "      <td>1</td>\n",
       "    </tr>\n",
       "    <tr>\n",
       "      <th>99996</th>\n",
       "      <td>943</td>\n",
       "      <td>M</td>\n",
       "      <td>4</td>\n",
       "    </tr>\n",
       "    <tr>\n",
       "      <th>99997</th>\n",
       "      <td>943</td>\n",
       "      <td>M</td>\n",
       "      <td>3</td>\n",
       "    </tr>\n",
       "    <tr>\n",
       "      <th>99998</th>\n",
       "      <td>943</td>\n",
       "      <td>M</td>\n",
       "      <td>4</td>\n",
       "    </tr>\n",
       "    <tr>\n",
       "      <th>99999</th>\n",
       "      <td>943</td>\n",
       "      <td>M</td>\n",
       "      <td>2</td>\n",
       "    </tr>\n",
       "  </tbody>\n",
       "</table>\n",
       "<p>100000 rows × 3 columns</p>\n",
       "</div>"
      ],
      "text/plain": [
       "       user id gender  rating\n",
       "0            1      M       4\n",
       "1            1      M       3\n",
       "2            1      M       4\n",
       "3            1      M       4\n",
       "4            1      M       4\n",
       "...        ...    ...     ...\n",
       "99995      943      M       1\n",
       "99996      943      M       4\n",
       "99997      943      M       3\n",
       "99998      943      M       4\n",
       "99999      943      M       2\n",
       "\n",
       "[100000 rows x 3 columns]"
      ]
     },
     "execution_count": 4,
     "metadata": {},
     "output_type": "execute_result"
    }
   ],
   "source": [
    "# Merge data\n",
    "users_df = users.loc[:,['user id', 'gender']]\n",
    "ratings_df = ratings.loc[:,['user id', 'rating']]\n",
    "rating_df = pd.merge(users_df,ratings_df)\n",
    "rating_df"
   ]
  },
  {
   "cell_type": "code",
   "execution_count": 5,
   "id": "3b3f9261",
   "metadata": {},
   "outputs": [
    {
     "data": {
      "text/plain": [
       "gender\n",
       "F    1.170951\n",
       "M    1.109556\n",
       "Name: rating, dtype: float64"
      ]
     },
     "execution_count": 5,
     "metadata": {},
     "output_type": "execute_result"
    }
   ],
   "source": [
    "rating_df.groupby('gender').rating.std()"
   ]
  },
  {
   "cell_type": "code",
   "execution_count": 6,
   "id": "03627465",
   "metadata": {},
   "outputs": [
    {
     "data": {
      "text/plain": [
       "gender\n",
       "F    1.170951\n",
       "M    1.109556\n",
       "Name: rating, dtype: float64"
      ]
     },
     "execution_count": 6,
     "metadata": {},
     "output_type": "execute_result"
    }
   ],
   "source": [
    "rating_df.groupby('gender').rating.apply(pd.Series.std)"
   ]
  },
  {
   "cell_type": "code",
   "execution_count": 7,
   "id": "7fb7d1bf",
   "metadata": {},
   "outputs": [
    {
     "name": "stderr",
     "output_type": "stream",
     "text": [
      "/opt/anaconda3/lib/python3.9/site-packages/numpy/core/fromnumeric.py:3370: FutureWarning: Dropping of nuisance columns in DataFrame reductions (with 'numeric_only=None') is deprecated; in a future version this will raise TypeError.  Select only valid columns before calling the reduction.\n",
      "  return mean(axis=axis, dtype=dtype, out=out, **kwargs)\n"
     ]
    },
    {
     "data": {
      "text/html": [
       "<div>\n",
       "<style scoped>\n",
       "    .dataframe tbody tr th:only-of-type {\n",
       "        vertical-align: middle;\n",
       "    }\n",
       "\n",
       "    .dataframe tbody tr th {\n",
       "        vertical-align: top;\n",
       "    }\n",
       "\n",
       "    .dataframe thead th {\n",
       "        text-align: right;\n",
       "    }\n",
       "</style>\n",
       "<table border=\"1\" class=\"dataframe\">\n",
       "  <thead>\n",
       "    <tr style=\"text-align: right;\">\n",
       "      <th></th>\n",
       "      <th></th>\n",
       "      <th>user id</th>\n",
       "      <th>rating</th>\n",
       "    </tr>\n",
       "    <tr>\n",
       "      <th>user id</th>\n",
       "      <th>gender</th>\n",
       "      <th></th>\n",
       "      <th></th>\n",
       "    </tr>\n",
       "  </thead>\n",
       "  <tbody>\n",
       "    <tr>\n",
       "      <th>1</th>\n",
       "      <th>M</th>\n",
       "      <td>1.0</td>\n",
       "      <td>3.610294</td>\n",
       "    </tr>\n",
       "    <tr>\n",
       "      <th>2</th>\n",
       "      <th>F</th>\n",
       "      <td>2.0</td>\n",
       "      <td>3.709677</td>\n",
       "    </tr>\n",
       "    <tr>\n",
       "      <th>3</th>\n",
       "      <th>M</th>\n",
       "      <td>3.0</td>\n",
       "      <td>2.796296</td>\n",
       "    </tr>\n",
       "    <tr>\n",
       "      <th>4</th>\n",
       "      <th>M</th>\n",
       "      <td>4.0</td>\n",
       "      <td>4.333333</td>\n",
       "    </tr>\n",
       "    <tr>\n",
       "      <th>5</th>\n",
       "      <th>F</th>\n",
       "      <td>5.0</td>\n",
       "      <td>2.874286</td>\n",
       "    </tr>\n",
       "    <tr>\n",
       "      <th>...</th>\n",
       "      <th>...</th>\n",
       "      <td>...</td>\n",
       "      <td>...</td>\n",
       "    </tr>\n",
       "    <tr>\n",
       "      <th>939</th>\n",
       "      <th>F</th>\n",
       "      <td>939.0</td>\n",
       "      <td>4.265306</td>\n",
       "    </tr>\n",
       "    <tr>\n",
       "      <th>940</th>\n",
       "      <th>M</th>\n",
       "      <td>940.0</td>\n",
       "      <td>3.457944</td>\n",
       "    </tr>\n",
       "    <tr>\n",
       "      <th>941</th>\n",
       "      <th>M</th>\n",
       "      <td>941.0</td>\n",
       "      <td>4.045455</td>\n",
       "    </tr>\n",
       "    <tr>\n",
       "      <th>942</th>\n",
       "      <th>F</th>\n",
       "      <td>942.0</td>\n",
       "      <td>4.265823</td>\n",
       "    </tr>\n",
       "    <tr>\n",
       "      <th>943</th>\n",
       "      <th>M</th>\n",
       "      <td>943.0</td>\n",
       "      <td>3.410714</td>\n",
       "    </tr>\n",
       "  </tbody>\n",
       "</table>\n",
       "<p>943 rows × 2 columns</p>\n",
       "</div>"
      ],
      "text/plain": [
       "                user id    rating\n",
       "user id gender                   \n",
       "1       M           1.0  3.610294\n",
       "2       F           2.0  3.709677\n",
       "3       M           3.0  2.796296\n",
       "4       M           4.0  4.333333\n",
       "5       F           5.0  2.874286\n",
       "...                 ...       ...\n",
       "939     F         939.0  4.265306\n",
       "940     M         940.0  3.457944\n",
       "941     M         941.0  4.045455\n",
       "942     F         942.0  4.265823\n",
       "943     M         943.0  3.410714\n",
       "\n",
       "[943 rows x 2 columns]"
      ]
     },
     "execution_count": 7,
     "metadata": {},
     "output_type": "execute_result"
    }
   ],
   "source": [
    "rating_df.groupby(['user id','gender']).apply(np.mean)"
   ]
  },
  {
   "cell_type": "code",
   "execution_count": 8,
   "id": "b2c10daf",
   "metadata": {},
   "outputs": [
    {
     "name": "stderr",
     "output_type": "stream",
     "text": [
      "/opt/anaconda3/lib/python3.9/site-packages/numpy/core/fromnumeric.py:3370: FutureWarning: Dropping of nuisance columns in DataFrame reductions (with 'numeric_only=None') is deprecated; in a future version this will raise TypeError.  Select only valid columns before calling the reduction.\n",
      "  return mean(axis=axis, dtype=dtype, out=out, **kwargs)\n"
     ]
    }
   ],
   "source": [
    "#Save the gouping\n",
    "df1 = rating_df.groupby(['user id','gender']).apply(np.mean)"
   ]
  },
  {
   "cell_type": "code",
   "execution_count": 9,
   "id": "17b2f4c3",
   "metadata": {},
   "outputs": [
    {
     "data": {
      "text/plain": [
       "gender\n",
       "F    0.481241\n",
       "M    0.430076\n",
       "Name: rating, dtype: float64"
      ]
     },
     "execution_count": 9,
     "metadata": {},
     "output_type": "execute_result"
    }
   ],
   "source": [
    "# Grouping by gender \n",
    "df1.groupby('gender').rating.std()"
   ]
  },
  {
   "cell_type": "code",
   "execution_count": 10,
   "id": "c5b3b3d3",
   "metadata": {},
   "outputs": [
    {
     "data": {
      "text/html": [
       "<div>\n",
       "<style scoped>\n",
       "    .dataframe tbody tr th:only-of-type {\n",
       "        vertical-align: middle;\n",
       "    }\n",
       "\n",
       "    .dataframe tbody tr th {\n",
       "        vertical-align: top;\n",
       "    }\n",
       "\n",
       "    .dataframe thead th {\n",
       "        text-align: right;\n",
       "    }\n",
       "</style>\n",
       "<table border=\"1\" class=\"dataframe\">\n",
       "  <thead>\n",
       "    <tr style=\"text-align: right;\">\n",
       "      <th></th>\n",
       "      <th>rating</th>\n",
       "    </tr>\n",
       "    <tr>\n",
       "      <th>gender</th>\n",
       "      <th></th>\n",
       "    </tr>\n",
       "  </thead>\n",
       "  <tbody>\n",
       "    <tr>\n",
       "      <th>F</th>\n",
       "      <td>0.481241</td>\n",
       "    </tr>\n",
       "    <tr>\n",
       "      <th>M</th>\n",
       "      <td>0.430076</td>\n",
       "    </tr>\n",
       "  </tbody>\n",
       "</table>\n",
       "</div>"
      ],
      "text/plain": [
       "          rating\n",
       "gender          \n",
       "F       0.481241\n",
       "M       0.430076"
      ]
     },
     "execution_count": 10,
     "metadata": {},
     "output_type": "execute_result"
    }
   ],
   "source": [
    "pd.pivot_table(df1, values = 'rating', index = 'gender', aggfunc = pd.Series.std)"
   ]
  },
  {
   "cell_type": "code",
   "execution_count": 12,
   "id": "01ef42a4",
   "metadata": {},
   "outputs": [
    {
     "data": {
      "text/html": [
       "<div>\n",
       "<style scoped>\n",
       "    .dataframe tbody tr th:only-of-type {\n",
       "        vertical-align: middle;\n",
       "    }\n",
       "\n",
       "    .dataframe tbody tr th {\n",
       "        vertical-align: top;\n",
       "    }\n",
       "\n",
       "    .dataframe thead th {\n",
       "        text-align: right;\n",
       "    }\n",
       "</style>\n",
       "<table border=\"1\" class=\"dataframe\">\n",
       "  <thead>\n",
       "    <tr style=\"text-align: right;\">\n",
       "      <th></th>\n",
       "      <th></th>\n",
       "      <th>rating</th>\n",
       "    </tr>\n",
       "    <tr>\n",
       "      <th>user id</th>\n",
       "      <th>gender</th>\n",
       "      <th></th>\n",
       "    </tr>\n",
       "  </thead>\n",
       "  <tbody>\n",
       "    <tr>\n",
       "      <th>1</th>\n",
       "      <th>M</th>\n",
       "      <td>3.610294</td>\n",
       "    </tr>\n",
       "    <tr>\n",
       "      <th>2</th>\n",
       "      <th>F</th>\n",
       "      <td>3.709677</td>\n",
       "    </tr>\n",
       "    <tr>\n",
       "      <th>3</th>\n",
       "      <th>M</th>\n",
       "      <td>2.796296</td>\n",
       "    </tr>\n",
       "    <tr>\n",
       "      <th>4</th>\n",
       "      <th>M</th>\n",
       "      <td>4.333333</td>\n",
       "    </tr>\n",
       "    <tr>\n",
       "      <th>5</th>\n",
       "      <th>F</th>\n",
       "      <td>2.874286</td>\n",
       "    </tr>\n",
       "    <tr>\n",
       "      <th>...</th>\n",
       "      <th>...</th>\n",
       "      <td>...</td>\n",
       "    </tr>\n",
       "    <tr>\n",
       "      <th>939</th>\n",
       "      <th>F</th>\n",
       "      <td>4.265306</td>\n",
       "    </tr>\n",
       "    <tr>\n",
       "      <th>940</th>\n",
       "      <th>M</th>\n",
       "      <td>3.457944</td>\n",
       "    </tr>\n",
       "    <tr>\n",
       "      <th>941</th>\n",
       "      <th>M</th>\n",
       "      <td>4.045455</td>\n",
       "    </tr>\n",
       "    <tr>\n",
       "      <th>942</th>\n",
       "      <th>F</th>\n",
       "      <td>4.265823</td>\n",
       "    </tr>\n",
       "    <tr>\n",
       "      <th>943</th>\n",
       "      <th>M</th>\n",
       "      <td>3.410714</td>\n",
       "    </tr>\n",
       "  </tbody>\n",
       "</table>\n",
       "<p>943 rows × 1 columns</p>\n",
       "</div>"
      ],
      "text/plain": [
       "                  rating\n",
       "user id gender          \n",
       "1       M       3.610294\n",
       "2       F       3.709677\n",
       "3       M       2.796296\n",
       "4       M       4.333333\n",
       "5       F       2.874286\n",
       "...                  ...\n",
       "939     F       4.265306\n",
       "940     M       3.457944\n",
       "941     M       4.045455\n",
       "942     F       4.265823\n",
       "943     M       3.410714\n",
       "\n",
       "[943 rows x 1 columns]"
      ]
     },
     "execution_count": 12,
     "metadata": {},
     "output_type": "execute_result"
    }
   ],
   "source": [
    "pd.pivot_table(rating_df, index = ['user id','gender'], values = 'rating')"
   ]
  },
  {
   "cell_type": "code",
   "execution_count": 13,
   "id": "2c8c60e2",
   "metadata": {},
   "outputs": [
    {
     "data": {
      "text/plain": [
       "rating    0.481241\n",
       "dtype: float64"
      ]
     },
     "execution_count": 13,
     "metadata": {},
     "output_type": "execute_result"
    }
   ],
   "source": [
    "#rating by female\n",
    "t = pd.pivot_table(rating_df, index = ['user id','gender'], values = 'rating')\n",
    "female = t.query(\"gender == ['F']\")\n",
    "pd.Series.std(female)"
   ]
  },
  {
   "cell_type": "code",
   "execution_count": 15,
   "id": "4ad87221",
   "metadata": {},
   "outputs": [
    {
     "data": {
      "text/plain": [
       "rating    0.430076\n",
       "dtype: float64"
      ]
     },
     "execution_count": 15,
     "metadata": {},
     "output_type": "execute_result"
    }
   ],
   "source": [
    "# rating by male\n",
    "p = pd.pivot_table(rating_df, index = ['user id','gender'], values = 'rating')\n",
    "male = t.query(\"gender == ['M']\")\n",
    "pd.Series.std(male)"
   ]
  },
  {
   "cell_type": "code",
   "execution_count": null,
   "id": "fd96b9a7",
   "metadata": {},
   "outputs": [],
   "source": []
  }
 ],
 "metadata": {
  "kernelspec": {
   "display_name": "Python 3 (ipykernel)",
   "language": "python",
   "name": "python3"
  },
  "language_info": {
   "codemirror_mode": {
    "name": "ipython",
    "version": 3
   },
   "file_extension": ".py",
   "mimetype": "text/x-python",
   "name": "python",
   "nbconvert_exporter": "python",
   "pygments_lexer": "ipython3",
   "version": "3.9.7"
  }
 },
 "nbformat": 4,
 "nbformat_minor": 5
}
